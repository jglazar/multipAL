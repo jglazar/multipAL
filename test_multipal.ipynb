{
  "nbformat": 4,
  "nbformat_minor": 0,
  "metadata": {
    "colab": {
      "name": "test_multipal.ipynb",
      "provenance": [],
      "authorship_tag": "ABX9TyP1BiR3+YBj4lCSlgd10sJL",
      "include_colab_link": true
    },
    "kernelspec": {
      "name": "python3",
      "display_name": "Python 3"
    }
  },
  "cells": [
    {
      "cell_type": "markdown",
      "metadata": {
        "id": "view-in-github",
        "colab_type": "text"
      },
      "source": [
        "<a href=\"https://colab.research.google.com/github/jglazar/multipAL/blob/main/test_multipal.ipynb\" target=\"_parent\"><img src=\"https://colab.research.google.com/assets/colab-badge.svg\" alt=\"Open In Colab\"/></a>"
      ]
    },
    {
      "cell_type": "markdown",
      "metadata": {
        "id": "zAE9DNHbyZ1e"
      },
      "source": [
        "In this notebook, we'll use active learning to efficiently search through the [NIST JARVIS DFT](https://jarvis.nist.gov/jarvisdft/) database for piezoelectric topological insulators."
      ]
    },
    {
      "cell_type": "markdown",
      "metadata": {
        "id": "bgdAJnT6y5I4"
      },
      "source": [
        "Let's start with some basic package imports"
      ]
    },
    {
      "cell_type": "code",
      "metadata": {
        "id": "MPQlCH9rxr_c"
      },
      "source": [
        "import pandas as pd\n",
        "import multipal\n",
        "\n",
        "from IPython.display import display_html\n",
        "from IPython.display import HTML"
      ],
      "execution_count": null,
      "outputs": []
    },
    {
      "cell_type": "markdown",
      "metadata": {
        "id": "uHtIsG_t2UTf"
      },
      "source": [
        "# Data setup + visualization"
      ]
    },
    {
      "cell_type": "markdown",
      "metadata": {
        "id": "QB4dPQrYy8aI"
      },
      "source": [
        "Next, we'll instatiate a Data object that contains the JARVIS DFT records. The data object has a dataframe with each material's features and properties. The featurization for piezoelectric topological insulators has been baked into the JarvisPTData subclass."
      ]
    },
    {
      "cell_type": "code",
      "metadata": {
        "id": "3be9u7cDyzl2"
      },
      "source": [
        "pt_data = multipal.JarvisPTData()\n",
        "display( pt_data.df.head() )"
      ],
      "execution_count": null,
      "outputs": []
    },
    {
      "cell_type": "markdown",
      "metadata": {
        "id": "M5F-wKp9z8Ad"
      },
      "source": [
        "We can also use some cool visualization methods in the Data class. The below graph shows the competition between piezoelectricity and topological insulation. We quantify piezoelectricity with the maximum piezoelectric tensor value and topological insulation with the spin-orbit spillage. [Spillage](https://journals.aps.org/prb/abstract/10.1103/PhysRevB.90.125133) is a common measure of band inversion useful for high-throughput studies."
      ]
    },
    {
      "cell_type": "code",
      "metadata": {
        "id": "qUbkjye7zZXJ"
      },
      "source": [
        "fig_compete = pt_data.plot_compete('dfpt_piezo_max_eij', 'spillage')\n",
        "HTML( fig_compete.to_html() )"
      ],
      "execution_count": null,
      "outputs": []
    },
    {
      "cell_type": "markdown",
      "metadata": {
        "id": "7ZewoqV0z-Mg"
      },
      "source": [
        "We can also compare the features of high-piezoelectric and high-spillage materials. We find that they tend to be opposites, as expected for competing properties. "
      ]
    },
    {
      "cell_type": "code",
      "metadata": {
        "id": "i0ZXdiMoz--l"
      },
      "source": [
        "print('Our features: ',  *pt_data.ftrs_list, sep='  ')\n",
        "fig_compare = pt_data.plot_compare('avg_mass')\n",
        "HTML( fig_compare.to_html() )"
      ],
      "execution_count": null,
      "outputs": []
    },
    {
      "cell_type": "markdown",
      "metadata": {
        "id": "cfq53nB00FVi"
      },
      "source": [
        "We can also create a TSNE featurization to visualize a map of materials."
      ]
    },
    {
      "cell_type": "code",
      "metadata": {
        "id": "Oe88nLRP0FrW"
      },
      "source": [
        "pt_data.add_tsne()\n",
        "fig_tsne = pt_data.plot_map('dfpt_piezo_max_eij')\n",
        "HTML( fig_tsne.to_html() )"
      ],
      "execution_count": null,
      "outputs": []
    },
    {
      "cell_type": "markdown",
      "metadata": {
        "id": "fJp6PC5X2ZmD"
      },
      "source": [
        "# Active learning"
      ]
    },
    {
      "cell_type": "markdown",
      "metadata": {
        "id": "1306mAIP2nm9"
      },
      "source": [
        "Now that we have our data set up, let's do an active learning search. This example will be a bit trivial since we'll search through known materials, but it makes a nice proof-of-concept.\n",
        "\n",
        "We have to first instantiate an active learning object. The JarvisAL subclass has some baked-in methods to test and visualize the active learning performance on the known JARVIS materials. We'll start by setting up an active learning dataframe with 5 materials in the training set."
      ]
    },
    {
      "cell_type": "code",
      "metadata": {
        "id": "c7ouUubg2a_T"
      },
      "source": [
        "pt_learn = JarvisAL( pt_data, 'dfpt_piezo_max_eij' )\n",
        "al_df = pt_learn.df_setup()"
      ],
      "execution_count": null,
      "outputs": []
    },
    {
      "cell_type": "markdown",
      "metadata": {
        "id": "bOVgOQbE3m_A"
      },
      "source": [
        "We can do a basic active learning search for the best piezoelectric material now. This will output the JARVIS ID numbers of each selected material during the search."
      ]
    },
    {
      "cell_type": "code",
      "metadata": {
        "id": "HBeMj9r33mhi"
      },
      "source": [
        "ids = pt_learn.al( al_df, n_steps=10)\n",
        "display(ids)"
      ],
      "execution_count": null,
      "outputs": []
    },
    {
      "cell_type": "markdown",
      "metadata": {
        "id": "IwJ6zxDz4NwV"
      },
      "source": [
        "Next up is a more rigorous comparison between different acquisition functions. The below method runs active learning loops with 10 different starting training sets for each acquisition function. The final result is the improvement of the known materials over time.  \n",
        "\n",
        "This will take a few minutes to run."
      ]
    },
    {
      "cell_type": "code",
      "metadata": {
        "id": "dX63QncM4OCP"
      },
      "source": [
        "comp_df = pt_learn.compare_aq( n_avg=10, n_steps=100 )"
      ],
      "execution_count": null,
      "outputs": []
    },
    {
      "cell_type": "markdown",
      "metadata": {
        "id": "r4bf7l_R4tLw"
      },
      "source": [
        "Finally, we can visualize the average improvement of the dataset over time for the different acquisition functions. We clearly see that the active learning strategies (maxu and maxv) far outperform random guessing!"
      ]
    },
    {
      "cell_type": "code",
      "metadata": {
        "id": "i_MEnzui4tQt"
      },
      "source": [
        "fig_racetrack = pt_learn.plot_racetrack( comp_df, error_bars=False )\n",
        "HTML( fig_racetrack.to_html() )"
      ],
      "execution_count": null,
      "outputs": []
    }
  ]
}